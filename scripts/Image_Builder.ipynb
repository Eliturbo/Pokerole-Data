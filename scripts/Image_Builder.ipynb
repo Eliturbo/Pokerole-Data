{
 "cells": [
  {
   "cell_type": "code",
   "execution_count": 1,
   "metadata": {},
   "outputs": [
    {
     "name": "stderr",
     "output_type": "stream",
     "text": [
      "/Users/bill/opt/anaconda3/lib/python3.8/site-packages/fuzzywuzzy/fuzz.py:11: UserWarning: Using slow pure-python SequenceMatcher. Install python-Levenshtein to remove this warning\n",
      "  warnings.warn('Using slow pure-python SequenceMatcher. Install python-Levenshtein to remove this warning')\n"
     ]
    }
   ],
   "source": [
    "import yaml\n",
    "import json\n",
    "from pymongo import MongoClient\n",
    "import os\n",
    "import pandas as pd\n",
    "import re\n",
    "from fuzzywuzzy import process\n",
    "from fuzzywuzzy import fuzz\n",
    "from glob import glob\n",
    "from shutil import copy\n",
    "\n",
    "secrets = json.load(open('../secrets.json'))\n",
    "\n",
    "client = MongoClient(host='aurii.us', port=20180, username=secrets['MongoUser'], password=secrets['MongoPass'])\n",
    "\n",
    "pokedex_path = '../Version20/Pokedex'\n",
    "sprites_path = '../Sources/pokesprite/pokemon-gen8/regular/'\n",
    "home_path = '../Sources/Pokémon HOME/'\n",
    "book_path = '../Sources/Dreamworld Color/'\n",
    "\n",
    "sprites_output = '../Images/BoxSprites/'\n",
    "home_output = '../Images/HomeSprites/'\n",
    "book_output = '../Images/BookSprites/'\n",
    "\n",
    "os.makedirs(sprites_output,exist_ok=True)\n",
    "os.makedirs(home_output,exist_ok=True)\n",
    "os.makedirs(book_output,exist_ok=True)"
   ]
  },
  {
   "cell_type": "markdown",
   "metadata": {},
   "source": [
    "# Don't run commented out sections!\n",
    "\n",
    "This are for initial generation of the sprite folders, this will overwrite fixes that have been made!"
   ]
  },
  {
   "cell_type": "code",
   "execution_count": 2,
   "metadata": {},
   "outputs": [],
   "source": [
    "# imgs = [x for x in os.listdir(book_path) if '.png' in x]\n",
    "# # print(imgs)\n",
    "# for src in glob(pokedex_path+\"/*.json\"):\n",
    "#     entry = json.loads(open(src).read())\n",
    "#     best_match = process.extractOne(entry['Name'], imgs, scorer=fuzz.partial_token_sort_ratio)\n",
    "#     # print(entry['Name'], best_match)\n",
    "#     copy(book_path+best_match[0], book_output+entry['Sprite'])"
   ]
  },
  {
   "cell_type": "code",
   "execution_count": 3,
   "metadata": {},
   "outputs": [],
   "source": [
    "# # x_x_DexNum_Form_Femaled/Maled/MaleFemale_Gigantamax_x_front/back_Normal/Rare\n",
    "# # 0_1_2______3____4________________________5__________6_7__________8\n",
    "# home = sorted(os.listdir('../../special-pancake/In/Pokémon HOME/'))\n",
    "# data = pd.read_csv(pokedex_path)\n",
    "\n",
    "# pattern = '^[a-z]+_[a-z]+_(\\d+)_(\\d+)_([a-z]+)_([a-z]+)_\\d+_f_([a-z]+)'\n",
    "# # Group 1 = Number\n",
    "# # Group 2 = Form  \n",
    "# # Group 3 = Gender (mf, md, fd, uk)\n",
    "# # Group 4 = Gigantamax? (n/g)\n",
    "# # Group 5 = Rarity (n/r)\n",
    "\n",
    "# shiny = []\n",
    "# gigantamax = []\n",
    "# regular = []\n",
    "\n",
    "# for f in home:\n",
    "#     m = re.match(pattern,f)\n",
    "#     if not m:\n",
    "#         continue\n",
    "#     if m.group(3) == 'fd':\n",
    "#         continue\n",
    "#     if m.group(4) == 'g':\n",
    "#         gigantamax.append(f)\n",
    "#         continue\n",
    "#     if m.group(5) == 'r':\n",
    "#         shiny.append(f)\n",
    "#         continue\n",
    "#     regular.append(f)\n",
    "# print(\"Shiny:\", len(shiny), \"Giga:\", len(gigantamax), \"Regular:\", len(regular))\n",
    "\n",
    "# sprites = pd.Series(regular).to_frame()\n",
    "# sprites['num'] = sprites[0].str.extract('^[a-z]+_[a-z]+_(\\d+)_\\d+')\n",
    "# sprites['form'] = sprites[0].str.extract('^[a-z]+_[a-z]+_\\d+_(\\d+)')\n",
    "# sprites['key'] = sprites['num'].astype('str')+sprites['form'].astype('int').astype('str')\n",
    "\n",
    "\n",
    "# data['num'] = data['DexID'].str.extract('^(\\d+)')\n",
    "# data['form'] = data['DexID'].str.extract('^\\d+[A-Z]+(\\d+)')\n",
    "# data.loc[data.DexID.str.isdigit(), 'form'] = '0'\n",
    "# data.loc[data.DexID.str.match('\\d+[A-Z]+$'), 'form'] = '1'\n",
    "\n",
    "# # sprites.to_csv('sprites.csv',index=0)\n",
    "# # data.to_csv('output.csv',index=0)\n",
    "\n",
    "# data['key'] = data['num'].astype('str')+data['form'].astype('int').astype('str')\n",
    "\n",
    "# data = data.merge(sprites, on='key')\n",
    "# data.apply(lambda x: shutil.copy('../../special-pancake/In/Pokémon HOME/'+x[0], '../../special-pancake/In/Pokémon HOME new/SRD-HomeSprite-'+x.Sprite),axis=1)\n",
    "# data.to_csv('output.csv',index=0)\n",
    "\n",
    "# # SRD-Home goes to HomeSprites\n",
    "# # SRD-Sprites goes to BoxSprites\n",
    "\n",
    "# for src in glob(secrets[\"ObsidianRoot\"]+\"/Pokerole SRD/SRD-Home/*.png\"):\n",
    "#     #print(src)\n",
    "#     x = re.search(\"SRD-\\w+Sprite-(.*)\", src).group(1)\n",
    "#     copy(src, '/Users/bill/Code/Pokerole Data/data/BoxSprites/'+x)"
   ]
  },
  {
   "cell_type": "markdown",
   "metadata": {},
   "source": [
    "# Updates via the img_updates csv"
   ]
  },
  {
   "cell_type": "code",
   "execution_count": 4,
   "metadata": {},
   "outputs": [
    {
     "ename": "TypeError",
     "evalue": "can only concatenate str (not \"float\") to str",
     "output_type": "error",
     "traceback": [
      "\u001b[0;31m---------------------------------------------------------------------------\u001b[0m",
      "\u001b[0;31mTypeError\u001b[0m                                 Traceback (most recent call last)",
      "Cell \u001b[0;32mIn [4], line 18\u001b[0m\n\u001b[1;32m     15\u001b[0m     \u001b[39mbreak\u001b[39;00m\n\u001b[1;32m     17\u001b[0m \u001b[39m# print(srcpath+row['source'], outpath+row['target'])\u001b[39;00m\n\u001b[0;32m---> 18\u001b[0m copy(srcpath\u001b[39m+\u001b[39mrow[\u001b[39m'\u001b[39m\u001b[39msource\u001b[39m\u001b[39m'\u001b[39m], outpath\u001b[39m+\u001b[39mrow[\u001b[39m'\u001b[39m\u001b[39mtarget\u001b[39m\u001b[39m'\u001b[39m])\n",
      "\u001b[0;31mTypeError\u001b[0m: can only concatenate str (not \"float\") to str"
     ]
    }
   ],
   "source": [
    "updates = pd.read_csv('../Sources/img_updates.csv')\n",
    "for i, row in updates.iterrows():\n",
    "    # print(row)\n",
    "    if row['type'] == \"book\":\n",
    "        outpath = '../images/BookSprites/'\n",
    "        srcpath = '../Sources/Dreamworld Color/'\n",
    "    elif row['type'] == \"home\":\n",
    "        outpath = '../images/HomeSprites/'\n",
    "        srcpath = '../Sources/Pokémon HOME/'\n",
    "    elif row['type'] == \"box\":\n",
    "        outpath = '../images/BookSprites/'\n",
    "        srcpath = '../Sources/pokesprite/pokemon-gen8/regular/'\n",
    "    else:\n",
    "        print(row)\n",
    "        break\n",
    "    \n",
    "    # print(srcpath+row['source'], outpath+row['target'])\n",
    "    copy(srcpath+row['source'], outpath+row['target'])\n",
    "# copy('../Sources/Dreamworld Color/254Sceptile_Mega_Dream.png', '../images/BookSprites/sceptilemega.png')"
   ]
  },
  {
   "cell_type": "code",
   "execution_count": null,
   "metadata": {},
   "outputs": [],
   "source": []
  }
 ],
 "metadata": {
  "kernelspec": {
   "display_name": "Python 3.8.3 ('base')",
   "language": "python",
   "name": "python3"
  },
  "language_info": {
   "codemirror_mode": {
    "name": "ipython",
    "version": 3
   },
   "file_extension": ".py",
   "mimetype": "text/x-python",
   "name": "python",
   "nbconvert_exporter": "python",
   "pygments_lexer": "ipython3",
   "version": "3.8.3"
  },
  "orig_nbformat": 4,
  "vscode": {
   "interpreter": {
    "hash": "9d515c07ca0272cd8e2d5a7ad23ab2832aa6447bdcf9cb376e21fb0cfe36817a"
   }
  }
 },
 "nbformat": 4,
 "nbformat_minor": 2
}
