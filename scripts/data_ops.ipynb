{
 "cells": [
  {
   "cell_type": "code",
   "execution_count": 3,
   "metadata": {},
   "outputs": [],
   "source": [
    "import json\n",
    "import os\n",
    "import re\n",
    "import pandas as pd\n",
    "from shutil import copy, move\n",
    "\n",
    "pokedex_path = '../Version20/Pokedex/'\n",
    "abilities_path = '../Version20/Abilities/'\n",
    "moves_path = '../Version20/Moves/'\n",
    "learnsets_path = '../Version20/Learnsets/'\n",
    "natures_path = '../Version20/Natures/'\n",
    "items_path = '../Version20/Items/'\n",
    "paths = [pokedex_path,abilities_path,moves_path,learnsets_path,natures_path,items_path]"
   ]
  },
  {
   "cell_type": "markdown",
   "metadata": {},
   "source": [
    "# Image Cleanup"
   ]
  },
  {
   "cell_type": "code",
   "execution_count": 3,
   "metadata": {},
   "outputs": [],
   "source": [
    "updates = pd.read_csv('../Sources/img_updates.csv')\n",
    "for i, row in updates.iterrows():\n",
    "    # print(row)\n",
    "    if type(row['source']) != str:\n",
    "        continue #skips empty sources\n",
    "    if row['type'] == \"book\":\n",
    "        outpath = '../images/BookSprites/'\n",
    "        srcpath = '../Sources/Dreamworld Color/'\n",
    "    elif row['type'] == \"home\":\n",
    "        outpath = '../images/HomeSprites/'\n",
    "        srcpath = '../Sources/Pokémon HOME/'\n",
    "    elif row['type'] == \"box\":\n",
    "        outpath = '../images/BookSprites/'\n",
    "        srcpath = '../Sources/pokesprite/pokemon-gen8/regular/'\n",
    "    else:\n",
    "        print(row)\n",
    "        break\n",
    "    \n",
    "    # print(srcpath+row['source'], outpath+row['target'])\n",
    "    assert os.path.exists(srcpath+row['source']), f\"{row['source']} doesn't exist\"\n",
    "    # assert os.path.exists(outpath+row['target']), f\"{row['target']} doesn't exist\"\n",
    "    try:\n",
    "        copy(srcpath+row['source'], outpath+row['target'])\n",
    "    except:\n",
    "        print(row)\n",
    "        raise"
   ]
  },
  {
   "cell_type": "markdown",
   "metadata": {},
   "source": [
    "# Cell Operation:\n",
    "\n",
    "- Adds MegaBaseForm to Pokedex\n",
    "- slugify's the _id field of all data points"
   ]
  },
  {
   "cell_type": "code",
   "execution_count": 7,
   "metadata": {},
   "outputs": [],
   "source": [
    "\n",
    "# for fname in os.listdir(pokedex_path):\n",
    "#     if '.json' not in fname: continue\n",
    "#     path = pokedex_path+fname\n",
    "#     data = json.loads(open(path).read())\n",
    "#     if 'Mega-' in data['Name']:\n",
    "#         basename = re.search(\"Mega-(\\w+)\",data['Name']).group(1)\n",
    "#         data['MegaBaseForm'] = basename\n",
    "#     open(path,'w').write(json.dumps(data, indent=4))\n",
    "\n",
    "# for data_path in paths:\n",
    "#     for fname in os.listdir(data_path):\n",
    "#         if '.json' not in fname: continue\n",
    "#         path = data_path+fname\n",
    "#         data = json.loads(open(path).read())\n",
    "        \n",
    "#         data['_id'] = data['_id'].lower().replace(' ', '-')\n",
    "#         open(path,'w').write(json.dumps(data, indent=4))\n"
   ]
  },
  {
   "attachments": {},
   "cell_type": "markdown",
   "metadata": {},
   "source": [
    "# Merge moves.json Metadata"
   ]
  },
  {
   "cell_type": "code",
   "execution_count": null,
   "metadata": {},
   "outputs": [],
   "source": [
    "new = json.loads(open('../Sources/moves.json').read())\n",
    "for move in new:\n",
    "    name = move['Name']\n",
    "    path = moves_path+name+'.json'\n",
    "    data = json.loads(open(path).read())\n",
    "    data['Attributes'] = move['Attributes']\n",
    "    data['AddedEffects'] = move['AddedEffects']\n",
    "    print(move, data)\n",
    "    open(path,'w').write(json.dumps(data, indent=4))"
   ]
  },
  {
   "attachments": {},
   "cell_type": "markdown",
   "metadata": {},
   "source": [
    "# Evolution Tree Parsing"
   ]
  },
  {
   "cell_type": "code",
   "execution_count": 69,
   "metadata": {},
   "outputs": [],
   "source": [
    "def _entry(entry):\n",
    "    # try:\n",
    "        f = entry['From']['@DisplayName']\n",
    "        t = entry['To']['@DisplayName']\n",
    "        k = entry['Kind']\n",
    "        d = json.loads(entry['Details']) if entry['Details'] else \"\"\n",
    "        d = {k.capitalize():v for k,v in d.items()} if type(d) == dict else \"\"\n",
    "        \n",
    "        x = { \"From\": f, \"To\": t, \"Kind\": k}\n",
    "        x.update(d)\n",
    "        return x\n",
    "    # except: \n",
    "    #     print(entry)\n",
    "    #     raise Exception\n",
    "\n",
    "data = json.loads(open('../raw/XmlDump/EvolutionTrees.json').read())\n",
    "compiled = []\n",
    "for tree in data:\n",
    "    entries = tree['EvolutionEntries']['EvolutionEntry']\n",
    "    if type(entries) == dict:\n",
    "        compiled.append(_entry(entries))\n",
    "    else:\n",
    "        for entry in entries:\n",
    "            compiled.append(_entry(entry))\n",
    "\n",
    "for fname in os.listdir(pokedex_path):\n",
    "    if '.json' not in fname: continue\n",
    "    path = pokedex_path+fname\n",
    "    data = json.loads(open(path).read())\n",
    "    name = data['Name']\n",
    "    data['Evolutions'] = []\n",
    "    try:\n",
    "        for entry in compiled:\n",
    "            if entry['From'] == name:\n",
    "                data['Evolutions'].append(entry.copy())\n",
    "                del data['Evolutions'][-1]['From']\n",
    "                if data['Evolutions'][-1][\"Kind\"] == \"Mega\" and \"Mega\" not in name:\n",
    "                    for e in data['MegaEvolutions']:\n",
    "                        if e['Name'] == data['Evolutions'][-1]['To']:\n",
    "                            # data['Evolutions'][-1]['Details'] = {\"item\": e['Item']}\n",
    "                            data['Evolutions'][-1]['Item'] = e['Item']\n",
    "                            break\n",
    "            if entry[\"To\"] == name:\n",
    "                data['Evolutions'].append(entry.copy())\n",
    "                if data['Evolutions'][-1][\"Kind\"] == \"Mega\" and \"Mega\" not in name:\n",
    "                    for e in data['MegaEvolutions']:\n",
    "                        if e['Name'] == data['Evolutions'][-1]['To']:\n",
    "                            # data['Evolutions'][-1]['Details'] = {\"item\": e['Item']}\n",
    "                            data['Evolutions'][-1]['Item'] = e['Item']\n",
    "                            break\n",
    "                if data['Evolutions'][-1][\"Kind\"] == \"Mega\" and \"Mega\" in name:\n",
    "                    base = json.loads(open(pokedex_path+data['Evolutions'][-1]['From']+'.json').read())\n",
    "                    for e in base['MegaEvolutions']:\n",
    "                        if e['Name'] == data['Evolutions'][-1]['To']:\n",
    "                            # data['Evolutions'][-1]['Details'] = {\"item\": e['Item']}\n",
    "                            data['Evolutions'][-1]['Item'] = e['Item']\n",
    "                            break\n",
    "                del data['Evolutions'][-1]['To']\n",
    "    except:\n",
    "        print(data, entry)\n",
    "        raise Exception\n",
    "    open(path,'w').write(json.dumps(data, indent=4))"
   ]
  },
  {
   "cell_type": "code",
   "execution_count": 70,
   "metadata": {},
   "outputs": [],
   "source": [
    "for fname in os.listdir(pokedex_path):\n",
    "    if '.json' not in fname: continue\n",
    "    path = pokedex_path+fname\n",
    "    data = json.loads(open(path).read())\n",
    "    data.pop('MegaEvolutions', None)\n",
    "    data.pop('MegaBaseForm', None)\n",
    "    open(path,'w').write(json.dumps(data, indent=4))"
   ]
  },
  {
   "cell_type": "code",
   "execution_count": 4,
   "metadata": {},
   "outputs": [],
   "source": []
  },
  {
   "cell_type": "code",
   "execution_count": null,
   "metadata": {},
   "outputs": [],
   "source": []
  }
 ],
 "metadata": {
  "kernelspec": {
   "display_name": "sink",
   "language": "python",
   "name": "python3"
  },
  "language_info": {
   "codemirror_mode": {
    "name": "ipython",
    "version": 3
   },
   "file_extension": ".py",
   "mimetype": "text/x-python",
   "name": "python",
   "nbconvert_exporter": "python",
   "pygments_lexer": "ipython3",
   "version": "3.10.8"
  },
  "orig_nbformat": 4,
  "vscode": {
   "interpreter": {
    "hash": "acc2efd267d5e75a20843b3279b6697779ea78b05d85e2dd7c35c77a63f5d6b2"
   }
  }
 },
 "nbformat": 4,
 "nbformat_minor": 2
}
