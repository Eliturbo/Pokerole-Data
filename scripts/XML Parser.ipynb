{
 "cells": [
  {
   "cell_type": "code",
   "execution_count": 48,
   "metadata": {},
   "outputs": [],
   "source": [
    "import xmltodict \n",
    "import json\n",
    "import os\n",
    "\n",
    "pokedex_path = '../raw/XmlDump/DexEntries.json'\n",
    "pokedex_data_dir = '../Version20/Pokedex/'"
   ]
  },
  {
   "cell_type": "code",
   "execution_count": 11,
   "metadata": {},
   "outputs": [
    {
     "name": "stdout",
     "output_type": "stream",
     "text": [
      "Necrozma Dawn Wings\n",
      "1019\n"
     ]
    }
   ],
   "source": [
    "book_raw = json.loads(open(pokedex_path).read())\n",
    "len(book_raw)\n",
    "len(os.listdir(pokedex_data_dir))\n",
    "cnt = 0\n",
    "for raw in book_raw:\n",
    "    flag = False\n",
    "    for fname in os.listdir(pokedex_data_dir):\n",
    "        json_data = json.loads(open(pokedex_data_dir+'/'+fname).read())\n",
    "        n = json_data['Name']\n",
    "        if n == raw['Name']:\n",
    "            cnt+=1\n",
    "            flag = True\n",
    "            break\n",
    "    if not flag: print(raw['Name'])\n",
    "print(cnt)"
   ]
  },
  {
   "cell_type": "code",
   "execution_count": 52,
   "metadata": {},
   "outputs": [],
   "source": [
    "book_raw = json.loads(open(pokedex_path).read())\n",
    "book_keyed = {}\n",
    "for raw in book_raw:\n",
    "    book_keyed[raw['Name']] = raw\n",
    "\n",
    "\n",
    "for fname in os.listdir(pokedex_data_dir):\n",
    "    # fname = 'Charizard.json'\n",
    "    if '.json' not in fname: continue\n",
    "    path = pokedex_data_dir+fname\n",
    "    data = json.loads(open(path).read())\n",
    "    new = book_keyed[data['Name']]\n",
    "    if new['Name'] == 'Egg': continue\n",
    "    try:\n",
    "        data[\"DexCategory\"] = new.get('Category',\"\")\n",
    "        data['Height'] = {}\n",
    "        data['Height']['Deimeters'] = int(new['AverageHeight']['@Value'])\n",
    "        data['Height']['Meters'] = round(int(new['AverageHeight']['@Value'])*0.1, 2)\n",
    "        data['Height']['Feet'] = round(int(new['AverageHeight']['@Value'])*0.3280839895, 1)\n",
    "        data['Weight'] = {}\n",
    "        data['Weight']['Hectograms'] = int(new['AverageWeight']['@Value'])\n",
    "        data['Weight']['Kilograms'] = round(int(new['AverageWeight']['@Value'])*0.1, 2)\n",
    "        data['Weight']['Pounds'] = round(int(new['AverageWeight']['@Value'])*0.2204622622, 1)\n",
    "        data[\"DexDescription\"] = new.get('DexDescription',\"\")\n",
    "        data['Baby'] = True if new.get('IsBaby') == \"true\" else False\n",
    "        data['PrimaryEggGroup'] = new['PrimaryEggGroup']\n",
    "        data['SecondaryEggGroup'] = new['SecondaryEggGroup'] if type(new['SecondaryEggGroup']) == str else \"\"\n",
    "        \n",
    "        data['BookImageName'] = new['PrimaryImage']['@DisplayName']\n",
    "        if new.get('ShinyImage'): data['BookShinyImageName'] = new['ShinyImage']['@DisplayName']\n",
    "        \n",
    "        if new['MegaEvolutions']:\n",
    "            data['MegaEvolutions'] = []\n",
    "            extract = new['MegaEvolutions']['MegaEvolutionEntry']\n",
    "            if type(extract) == dict: extract = [extract]\n",
    "            for evo in extract:\n",
    "                data['MegaEvolutions'].append(\n",
    "                    {\"Name\":evo['TargetEvolution']['@DisplayName'], \"Item\":evo['Item']['@DisplayName']})\n",
    "    except:\n",
    "        print(\"ERROR: \"+ new['Name'])\n",
    "        print(new)\n",
    "        raise\n",
    "        # raise err\n",
    "    \n",
    "    # print(json.dumps(data))\n",
    "    # break\n",
    "    open(path,'w').write(json.dumps(data, indent=4))"
   ]
  },
  {
   "cell_type": "code",
   "execution_count": null,
   "metadata": {},
   "outputs": [],
   "source": []
  }
 ],
 "metadata": {
  "kernelspec": {
   "display_name": "Python 3 (ipykernel)",
   "language": "python",
   "name": "python3"
  },
  "language_info": {
   "codemirror_mode": {
    "name": "ipython",
    "version": 3
   },
   "file_extension": ".py",
   "mimetype": "text/x-python",
   "name": "python",
   "nbconvert_exporter": "python",
   "pygments_lexer": "ipython3",
   "version": "3.8.3"
  },
  "vscode": {
   "interpreter": {
    "hash": "9d515c07ca0272cd8e2d5a7ad23ab2832aa6447bdcf9cb376e21fb0cfe36817a"
   }
  }
 },
 "nbformat": 4,
 "nbformat_minor": 4
}
