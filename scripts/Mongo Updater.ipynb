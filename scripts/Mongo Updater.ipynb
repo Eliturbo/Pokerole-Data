{
 "cells": [
  {
   "cell_type": "markdown",
   "metadata": {},
   "source": [
    "# Mongo Updater\n",
    "\n",
    "You don't need to nor can you use this, it's internal to the DBA of the Mongo instance for updating Mongo to match the Repo files. "
   ]
  },
  {
   "cell_type": "code",
   "execution_count": 1,
   "metadata": {},
   "outputs": [
    {
     "name": "stderr",
     "output_type": "stream",
     "text": [
      "/Users/bill/opt/anaconda3/lib/python3.8/site-packages/fuzzywuzzy/fuzz.py:11: UserWarning: Using slow pure-python SequenceMatcher. Install python-Levenshtein to remove this warning\n",
      "  warnings.warn('Using slow pure-python SequenceMatcher. Install python-Levenshtein to remove this warning')\n"
     ]
    }
   ],
   "source": [
    "from glob import glob\n",
    "import json\n",
    "from pymongo import MongoClient\n",
    "import os\n",
    "import pandas as pd\n",
    "import re\n",
    "from fuzzywuzzy import process\n",
    "from fuzzywuzzy import fuzz\n",
    "\n",
    "secrets = json.load(open('../secrets.json'))\n",
    "\n",
    "client = MongoClient(host='aurii.us', port=20180, username=secrets['MongoUser'], password=secrets['MongoPass'])\n",
    "\n",
    "\n",
    "pokedex_path = '../Version20/Pokedex'\n",
    "abilities_path = '../Version20/Abilities'\n",
    "moves_path = '../Version20/Moves'\n",
    "learnsets_path = '../Version20/Learnsets'\n",
    "natures_path = '../Version20/Natures'\n",
    "items_path = '../Version20/Items'"
   ]
  },
  {
   "cell_type": "code",
   "execution_count": 2,
   "metadata": {},
   "outputs": [],
   "source": [
    "def chunk_data(bulk, x=500):\n",
    "    ret = []\n",
    "    for i in range(0,len(bulk),x):\n",
    "        ret.append(bulk[i:i+x])\n",
    "    return ret\n",
    "\n",
    "def publish(dataset, path='', fname_key='', chunk_size=0, mongo=None):\n",
    "    if mongo is not None: mongo.delete_many({})\n",
    "    if chunk_size:\n",
    "        chunks = []\n",
    "        for i in range(0,len(dataset),chunk_size):\n",
    "            chunks.append(dataset[i:i+chunk_size])\n",
    "    else: chunks = dataset\n",
    "    \n",
    "    for i in range(len(chunks)):\n",
    "        if path: \n",
    "            fname = chunks[i][fname_key] if fname_key else f\"{os.path.basename(path)}{i}\"\n",
    "            open(path+f\"/{fname}.json\",'w').write(json.dumps(chunks[i], indent=4))\n",
    "        if mongo is not None: \n",
    "            if type(chunks[i]) == list: mongo.insert_many(chunks[i])\n",
    "            else: mongo.insert_one(chunks[i])"
   ]
  },
  {
   "cell_type": "code",
   "execution_count": 3,
   "metadata": {},
   "outputs": [],
   "source": [
    "db = client['Pokerole20']\n",
    "\n",
    "# Pokedex\n",
    "\n",
    "data = []\n",
    "for src in sorted(glob(pokedex_path+\"/*.json\")):\n",
    "    data.append(json.loads(open(src).read()))\n",
    "publish(data, fname_key=\"Name\", mongo=db.Pokedex)\n",
    "\n",
    "# Abilities\n",
    "\n",
    "data = []\n",
    "for src in sorted(glob(abilities_path+\"/*.json\")):\n",
    "    data.append(json.loads(open(src).read()))\n",
    "publish(data, fname_key=\"Name\", mongo=db.Abilities)\n",
    "\n",
    "# Moves\n",
    "\n",
    "data = []\n",
    "for src in sorted(glob(moves_path+\"/*.json\")):\n",
    "    data.append(json.loads(open(src).read()))\n",
    "publish(data, fname_key=\"Name\", mongo=db.Moves)\n",
    "\n",
    "# Learnsets\n",
    "\n",
    "data = []\n",
    "for src in sorted(glob(learnsets_path+\"/*.json\")):\n",
    "    data.append(json.loads(open(src).read()))\n",
    "publish(data, fname_key=\"Name\", mongo=db.Learnsets)\n",
    "\n",
    "# Natures\n",
    "\n",
    "data = []\n",
    "for src in sorted(glob(natures_path+\"/*.json\")):\n",
    "    data.append(json.loads(open(src).read()))\n",
    "publish(data, fname_key=\"Name\", mongo=db.Natures)\n",
    "\n",
    "# Items\n",
    "\n",
    "data = []\n",
    "for src in sorted(glob(items_path+\"/*.json\")):\n",
    "    data.append(json.loads(open(src).read()))\n",
    "publish(data, fname_key=\"Name\", mongo=db.Items)"
   ]
  },
  {
   "cell_type": "markdown",
   "metadata": {},
   "source": []
  }
 ],
 "metadata": {
  "kernelspec": {
   "display_name": "Python 3.8.3 ('base')",
   "language": "python",
   "name": "python3"
  },
  "language_info": {
   "codemirror_mode": {
    "name": "ipython",
    "version": 3
   },
   "file_extension": ".py",
   "mimetype": "text/x-python",
   "name": "python",
   "nbconvert_exporter": "python",
   "pygments_lexer": "ipython3",
   "version": "3.8.3"
  },
  "vscode": {
   "interpreter": {
    "hash": "9d515c07ca0272cd8e2d5a7ad23ab2832aa6447bdcf9cb376e21fb0cfe36817a"
   }
  }
 },
 "nbformat": 4,
 "nbformat_minor": 4
}
