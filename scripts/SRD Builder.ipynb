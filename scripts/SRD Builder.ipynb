{
 "cells": [
  {
   "cell_type": "markdown",
   "metadata": {},
   "source": [
    "# Pokerole SRD Builder\n",
    "\n",
    "You don't need to use this, if you're looking for the Obsidian SRD, it's [here](https://github.com/Willowlark/PokeroleObsidianSRD)."
   ]
  },
  {
   "cell_type": "code",
   "execution_count": 1,
   "metadata": {},
   "outputs": [
    {
     "name": "stderr",
     "output_type": "stream",
     "text": [
      "/Users/bill/opt/anaconda3/lib/python3.8/site-packages/fuzzywuzzy/fuzz.py:11: UserWarning: Using slow pure-python SequenceMatcher. Install python-Levenshtein to remove this warning\n",
      "  warnings.warn('Using slow pure-python SequenceMatcher. Install python-Levenshtein to remove this warning')\n"
     ]
    }
   ],
   "source": [
    "import yaml\n",
    "from glob import glob\n",
    "import json\n",
    "import os\n",
    "import pandas as pd\n",
    "import re\n",
    "from fuzzywuzzy import process\n",
    "from fuzzywuzzy import fuzz\n",
    "from shutil import copy\n",
    "\n",
    "secrets = json.load(open('../secrets.json'))\n",
    "\n",
    "pokedex_path = '../Version20/Pokedex'\n",
    "abilities_path = '../Version20/Abilities'\n",
    "moves_path = '../Version20/Moves'\n",
    "learnsets_path = '../Version20/Learnsets'\n",
    "natures_path = '../Version20/Natures'\n",
    "\n",
    "pokedex_output = secrets[\"ObsidianRoot\"]+'/Pokerole SRD/SRD-Pokedex/'\n",
    "abilities_output = secrets[\"ObsidianRoot\"]+'/Pokerole SRD/SRD-Abilities/'\n",
    "moves_output = secrets[\"ObsidianRoot\"]+'/Pokerole SRD/SRD-Moves/'\n",
    "learnsets_output = secrets[\"ObsidianRoot\"]+'/Pokerole SRD/SRD-Learnsets/'\n",
    "natures_output = secrets[\"ObsidianRoot\"]+'/Pokerole SRD/SRD-Natures/'\n",
    "\n",
    "os.makedirs(pokedex_output,exist_ok=True)\n",
    "os.makedirs(abilities_output,exist_ok=True)\n",
    "os.makedirs(moves_output,exist_ok=True)\n",
    "os.makedirs(learnsets_output,exist_ok=True)\n",
    "os.makedirs(natures_output,exist_ok=True)"
   ]
  },
  {
   "cell_type": "code",
   "execution_count": 2,
   "metadata": {},
   "outputs": [],
   "source": [
    "ability_template = '''## `= this.name`\n",
    "\n",
    "> *`= this.Description`*\n",
    "\n",
    "**Effect:** `= this.Effect`'''\n",
    "\n",
    "#-------------------------------------------------------------\n",
    "\n",
    "moves_template = '''### `= this.name` \n",
    "*`= this.Description`*\n",
    "\n",
    "**Accuracy:** `= this.Accuracy1` + `= this.Accuracy2`\n",
    "**Damage:** `= this.Power` `= choice(length(this.Damage1)=0, \"\",\"\\+ \"+ this.Damage1)` `= choice(length(this.Damage2)=0, \"\",\"\\+ \"+ this.Damage2)`\n",
    "\n",
    "| Type          | Target          | Damage Type          | Power          |\n",
    "| ------------- | --------------- | ---------------- | -------------- |\n",
    "| `= this.Type` | `= this.Target` | `= this.DmgType` | `= this.Power` | \n",
    "\n",
    "**Effect:** `= this.Effect`'''\n",
    "\n",
    "#-------------------------------------------------------------\n",
    "\n",
    "learnsets_template = '''## `= this.Name` Learnset\n",
    "\n",
    "**DexID:** `= this.DexID`\n",
    "\n",
    "```dataview\n",
    "TABLE WITHOUT ID\n",
    "    T[0] AS Learned,\n",
    "    T[1] AS Move\n",
    "FROM #PokeroleSRD/Learnsets\n",
    "flatten moves as T\n",
    "where file.path = this.file.path\n",
    "```\n",
    "'''\n",
    "\n",
    "#-------------------------------------------------------------------\n",
    "\n",
    "natures_template = '''## `= this.Nature`\n",
    "\n",
    "**Confidence**: `= this.Confidence`\n",
    "\n",
    "*`= this.Keywords`*\n",
    "\n",
    "> `= this.Description`\n",
    "'''"
   ]
  },
  {
   "cell_type": "markdown",
   "metadata": {},
   "source": [
    "# Pokedex Entries"
   ]
  },
  {
   "cell_type": "code",
   "execution_count": 15,
   "metadata": {},
   "outputs": [],
   "source": [
    "for src in glob(pokedex_path+\"/*.json\"):\n",
    "    entry = json.loads(open(src).read())\n",
    "    entry['BoxSprite'] = 'SRD-BoxSprite-'+entry['Sprite']\n",
    "    entry['HomeSprite'] = 'SRD-HomeSprite-'+entry['Sprite']\n",
    "    \n",
    "    entry['Unevolved'] = 'Yes' if entry['Unevolved'] else 'No'\n",
    "    entry['HasForm'] = 'Yes' if entry['HasForm'] else 'No'\n",
    "    entry['Legendary'] = 'Yes' if entry['Legendary'] else 'No'\n",
    "    entry['GoodStarter'] = 'Yes' if entry['GoodStarter'] else 'No'\n",
    "    entry['Baby'] = 'Yes' if entry['Baby'] else 'No'\n",
    "    entry['Learnset'] = f\"[[SRD-{entry['Name']}-Learnset]]\"\n",
    "    \n",
    "    abilities = (f\"[[SRD-{entry['Ability1']}|{entry['Ability1']}]]\"\n",
    "                        f\"{'' if not entry['Ability2'] else ' / [[SRD-'+ entry['Ability2']+'|'+entry['Ability2']+']]'}\"\n",
    "                        f\"{'' if not entry['HiddenAbility'] else ' ([[SRD-'+entry['HiddenAbility']+'|'+entry['HiddenAbility']+']])'}\"\n",
    "                        f\"{'' if not entry['EventAbilities'] else ' <[[SRD-'+entry['EventAbilities']+'|'+entry['EventAbilities']+']]>'}\"\n",
    "                        )\n",
    "    INTEGERS = ['BaseHP', 'Strength', 'MaxStrength',\n",
    "       'Dexterity', 'MaxDexterity', 'Vitality', 'MaxVitality', 'Special',\n",
    "       'MaxSpecial', 'Insight', 'MaxInsight']\n",
    "    for key in INTEGERS:\n",
    "        entry[key] = int(entry[key])\n",
    "\n",
    "    template = f\"\"\"# `= this.name`\n",
    "\n",
    "![[{entry['HomeSprite']}|right]]\n",
    "\n",
    "*{entry['DexCategory']}*\n",
    "*{entry['DexDescription']}*\n",
    "\n",
    "**DexID**:: {entry['DexID']}\n",
    "**Species**:: {entry['Name']}\n",
    "**Type**:: {entry['Type']}\n",
    "**Abilities**:: {abilities}\n",
    "**Base HP**:: {entry['BaseHP']}\n",
    "\n",
    "![[{entry['BoxSprite']}|right]]\n",
    "\n",
    "|           |                                                                                        |                                          |\n",
    "| --------- | -------------------------------------------------------------------------------------- | ---------------------------------------- |\n",
    "| Strength  | `= padleft(padright(\"\",this.MaxStrength - this.Strength,\"⭘\"),this.MaxStrength,\"⬤\")`    | (Strength::{entry['Strength']})/(MaxStrength::{entry['MaxStrength']})   |\n",
    "| Dexterity | `= padleft(padright(\"\",this.MaxDexterity - this.Dexterity,\"⭘\"),this.MaxDexterity,\"⬤\")` | (Dexterity:: {entry['Dexterity']})/(MaxDexterity::{entry['MaxDexterity']}) |\n",
    "| Vitality  | `= padleft(padright(\"\",this.MaxVitality - this.Vitality,\"⭘\"),this.MaxVitality,\"⬤\")`    | (Vitality::{entry['Vitality']})/(MaxVitality::{entry['MaxVitality']})   |\n",
    "| Special   | `= padleft(padright(\"\",this.MaxSpecial - this.Special,\"⭘\"),this.MaxSpecial,\"⬤\")`       | (Special::{entry['Special']})/(MaxSpecial::{entry['MaxSpecial']})     |\n",
    "| Insight   | `= padleft(padright(\"\",this.MaxInsight - this.Insight,\"⭘\"),this.MaxInsight,\"⬤\")`       | (Insight::{entry['Insight']})/(MaxInsight::{entry['MaxInsight']})     |\n",
    "\n",
    "**Recommended Rank**:: {entry['RecommendedRank']}\n",
    "**Good Starter**:: {entry['GoodStarter']}\n",
    "**Can Evolve**:: {entry['Unevolved']}\n",
    "**Height**: {str(entry['Height']['Feet']).split('.')[0]}'{str(entry['Height']['Feet']).split('.')[1]}\" / {entry['Height']['Meters']}m\n",
    "**Weight**: {entry['Weight']['Pounds']}lbs / {entry['Weight']['Kilograms']}kg\n",
    "\n",
    "![[SRD-{entry['Name']}-Learnset]]\"\"\"\n",
    "        \n",
    "    for x in ['DexID','Strength','MaxStrength','Dexterity','MaxDexterity',\n",
    "              'Vitality','MaxVitality','Special','MaxSpecial','Insight','MaxInsight',\n",
    "             'BaseHP', 'RecommendedRank', 'GoodStarter', 'Unevolved', '_id', \"Abilities\", \"Type\"]:\n",
    "        del entry[x]\n",
    "    \n",
    "    entry_output = f\"---\\n{yaml.dump(entry)}---\\n\\n#PokeroleSRD/Pokedex\\n\\n{template}\"\n",
    "    open(pokedex_output+f\"SRD-{entry['Name']}.md\",'w').write(entry_output)"
   ]
  },
  {
   "cell_type": "markdown",
   "metadata": {},
   "source": [
    "# Ability Entries"
   ]
  },
  {
   "cell_type": "code",
   "execution_count": 22,
   "metadata": {},
   "outputs": [],
   "source": [
    "for src in glob(abilities_path+\"/*.json\"):\n",
    "    entry = json.loads(open(src).read())\n",
    "    del entry['_id']\n",
    "    entry_output = f\"---\\n{yaml.dump(entry)}---\\n\\n#PokeroleSRD/Abilities\\n\\n{ability_template}\"\n",
    "    open(abilities_output+f\"SRD-{entry['Name']}.md\",'w').write(entry_output)"
   ]
  },
  {
   "cell_type": "markdown",
   "metadata": {},
   "source": [
    "# Move Dex\n",
    "\n"
   ]
  },
  {
   "cell_type": "code",
   "execution_count": 23,
   "metadata": {},
   "outputs": [],
   "source": [
    "for src in glob(moves_path+\"/*.json\"):\n",
    "    entry = json.loads(open(src).read())\n",
    "    del entry['_id']\n",
    "    entry_output = f\"---\\n{yaml.dump(entry)}---\\n\\n#PokeroleSRD/Moves\\n\\n{moves_template}\"\n",
    "    open(moves_output+f\"SRD-{entry['Name']}.md\",'w').write(entry_output)"
   ]
  },
  {
   "cell_type": "markdown",
   "metadata": {},
   "source": [
    "# Move Lists"
   ]
  },
  {
   "cell_type": "code",
   "execution_count": 9,
   "metadata": {},
   "outputs": [],
   "source": [
    "for src in glob(learnsets_path+\"/*.json\"):\n",
    "    entry = json.loads(open(src).read())\n",
    "    del entry['_id']\n",
    "    \n",
    "    entry['Species'] = f\"[[SRD-{entry['Name']}|{entry['Name']}]]\"\n",
    "    moves = []\n",
    "    for m in entry[\"Moves\"]:\n",
    "        if moves and m[\"Learned\"] != moves[-1][0]:\n",
    "            moves.append([\"---------------------------\",\"---------------------------\"])\n",
    "        moves.append([m[f'Learned'],f'[[SRD-{m[\"Name\"]}|{m[\"Name\"]}]]'])\n",
    "    entry['Moves'] = moves\n",
    "    entry_output = f\"---\\n{yaml.dump(entry)}---\\n\\n#PokeroleSRD/Learnsets\\n\\n{learnsets_template}\"\n",
    "    open(learnsets_output+f\"SRD-{entry['Name']}-Learnset.md\",'w').write(entry_output)\n",
    "    "
   ]
  },
  {
   "cell_type": "markdown",
   "metadata": {},
   "source": [
    "# Natures"
   ]
  },
  {
   "cell_type": "code",
   "execution_count": 25,
   "metadata": {},
   "outputs": [],
   "source": [
    "for src in glob(natures_path+\"/*.json\"):\n",
    "    entry = json.loads(open(src).read())\n",
    "    del entry['_id']\n",
    "    entry_output = f\"---\\n{yaml.dump(entry)}---\\n\\n#PokeroleSRD/Natures\\n\\n{natures_template}\"\n",
    "    open(natures_output+f\"SRD-{entry['Name']}.md\",'w').write(entry_output)"
   ]
  },
  {
   "cell_type": "markdown",
   "metadata": {},
   "source": [
    "# Sprites (No longer Automated)"
   ]
  },
  {
   "cell_type": "code",
   "execution_count": 26,
   "metadata": {},
   "outputs": [],
   "source": [
    "# sprites = os.listdir('../../special-pancake/In/pokesprite/pokemon-gen8/regular')\n",
    "# data = pd.read_csv(pokedex_path)\n",
    "# BoxSprites = []\n",
    "# for n in data.Name:\n",
    "#     best_match = process.extractOne(n, sprites, scorer=fuzz.token_sort_ratio)\n",
    "#     # print(n, best_match)\n",
    "#     BoxSprites.append(best_match[0])\n",
    "# data['BoxSprite'] = BoxSprites"
   ]
  },
  {
   "cell_type": "code",
   "execution_count": 27,
   "metadata": {},
   "outputs": [],
   "source": [
    "# # x_x_DexNum_Form_Femaled/Maled/MaleFemale_Gigantamax_x_front/back_Normal/Rare\n",
    "# # 0_1_2______3____4________________________5__________6_7__________8\n",
    "# home = sorted(os.listdir('../../special-pancake/In/Pokémon HOME/'))\n",
    "# data = pd.read_csv(pokedex_path)\n",
    "\n",
    "# pattern = '^[a-z]+_[a-z]+_(\\d+)_(\\d+)_([a-z]+)_([a-z]+)_\\d+_f_([a-z]+)'\n",
    "# # Group 1 = Number\n",
    "# # Group 2 = Form  \n",
    "# # Group 3 = Gender (mf, md, fd, uk)\n",
    "# # Group 4 = Gigantamax? (n/g)\n",
    "# # Group 5 = Rarity (n/r)\n",
    "\n",
    "# shiny = []\n",
    "# gigantamax = []\n",
    "# regular = []\n",
    "\n",
    "# for f in home:\n",
    "#     m = re.match(pattern,f)\n",
    "#     if not m:\n",
    "#         continue\n",
    "#     if m.group(3) == 'fd':\n",
    "#         continue\n",
    "#     if m.group(4) == 'g':\n",
    "#         gigantamax.append(f)\n",
    "#         continue\n",
    "#     if m.group(5) == 'r':\n",
    "#         shiny.append(f)\n",
    "#         continue\n",
    "#     regular.append(f)\n",
    "# print(\"Shiny:\", len(shiny), \"Giga:\", len(gigantamax), \"Regular:\", len(regular))\n",
    "\n",
    "# sprites = pd.Series(regular).to_frame()\n",
    "# sprites['num'] = sprites[0].str.extract('^[a-z]+_[a-z]+_(\\d+)_\\d+')\n",
    "# sprites['form'] = sprites[0].str.extract('^[a-z]+_[a-z]+_\\d+_(\\d+)')\n",
    "# sprites['key'] = sprites['num'].astype('str')+sprites['form'].astype('int').astype('str')\n",
    "\n",
    "\n",
    "# data['num'] = data['DexID'].str.extract('^(\\d+)')\n",
    "# data['form'] = data['DexID'].str.extract('^\\d+[A-Z]+(\\d+)')\n",
    "# data.loc[data.DexID.str.isdigit(), 'form'] = '0'\n",
    "# data.loc[data.DexID.str.match('\\d+[A-Z]+$'), 'form'] = '1'\n",
    "\n",
    "# # sprites.to_csv('sprites.csv',index=0)\n",
    "# # data.to_csv('output.csv',index=0)\n",
    "\n",
    "# data['key'] = data['num'].astype('str')+data['form'].astype('int').astype('str')\n",
    "\n",
    "# data = data.merge(sprites, on='key')\n",
    "# data.apply(lambda x: shutil.copy('../../special-pancake/In/Pokémon HOME/'+x[0], '../../special-pancake/In/Pokémon HOME new/SRD-HomeSprite-'+x.Sprite),axis=1)\n",
    "# data.to_csv('output.csv',index=0)"
   ]
  },
  {
   "cell_type": "code",
   "execution_count": 28,
   "metadata": {},
   "outputs": [],
   "source": [
    "# # SRD-Home goes to HomeSprites\n",
    "# # SRD-Sprites goes to BoxSprites\n",
    "\n",
    "# for src in glob(secrets[\"ObsidianRoot\"]+\"/Pokerole SRD/SRD-Home/*.png\"):\n",
    "#     #print(src)\n",
    "#     x = re.search(\"SRD-\\w+Sprite-(.*)\", src).group(1)\n",
    "#     copy(src, '/Users/bill/Code/Pokerole Data/data/BoxSprites/'+x)"
   ]
  },
  {
   "cell_type": "code",
   "execution_count": null,
   "metadata": {},
   "outputs": [],
   "source": []
  }
 ],
 "metadata": {
  "kernelspec": {
   "display_name": "Python 3.8.3 ('base')",
   "language": "python",
   "name": "python3"
  },
  "language_info": {
   "codemirror_mode": {
    "name": "ipython",
    "version": 3
   },
   "file_extension": ".py",
   "mimetype": "text/x-python",
   "name": "python",
   "nbconvert_exporter": "python",
   "pygments_lexer": "ipython3",
   "version": "3.8.3"
  },
  "vscode": {
   "interpreter": {
    "hash": "9d515c07ca0272cd8e2d5a7ad23ab2832aa6447bdcf9cb376e21fb0cfe36817a"
   }
  }
 },
 "nbformat": 4,
 "nbformat_minor": 4
}
