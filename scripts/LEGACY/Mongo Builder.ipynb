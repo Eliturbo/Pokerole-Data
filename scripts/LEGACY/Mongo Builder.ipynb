{
 "cells": [
  {
   "cell_type": "markdown",
   "metadata": {},
   "source": [
    "# Mongo Builder\n",
    "\n",
    "You don't need to nor can you use this, it's internal to the DBA of the Mongo instance. \n",
    "\n",
    "Additionally, this is LEGACY: it generates off the PokeroleBot csv data. Those files aren't going to be updated any further.\n",
    "\n",
    "This is mostly here for record keeping and reference"
   ]
  },
  {
   "cell_type": "code",
   "execution_count": 2,
   "metadata": {},
   "outputs": [
    {
     "name": "stderr",
     "output_type": "stream",
     "text": [
      "/Users/bill/opt/anaconda3/lib/python3.8/site-packages/fuzzywuzzy/fuzz.py:11: UserWarning: Using slow pure-python SequenceMatcher. Install python-Levenshtein to remove this warning\n",
      "  warnings.warn('Using slow pure-python SequenceMatcher. Install python-Levenshtein to remove this warning')\n"
     ]
    }
   ],
   "source": [
    "import yaml\n",
    "import json\n",
    "from pymongo import MongoClient\n",
    "import os\n",
    "import pandas as pd\n",
    "import re\n",
    "from fuzzywuzzy import process\n",
    "from fuzzywuzzy import fuzz\n",
    "\n",
    "secrets = json.load(open('../secrets.json'))\n",
    "\n",
    "client = MongoClient(host='aurii.us', port=20180, username=secrets['MongoUser'], password=secrets['MongoPass'])\n",
    "\n",
    "\n",
    "learnsets_path = '../raw/PokeroleBot/PokeLearnMovesFull.csv'\n",
    "moves_path = '../raw/PokeroleBot/pokeMoveSorted.csv'\n",
    "abilities_path = '../raw/PokeroleBot/PokeRoleAbilities.csv'\n",
    "items_path = '../raw/PokeroleBot/PokeRoleItems.csv'\n",
    "pokedex_path = '../raw/PokeroleBot/PokeroleStats.csv'\n",
    "natures_path = '../raw/PokeroleBot/Natures.csv'\n",
    "\n",
    "pokedex_output = '../Version20/Pokedex'\n",
    "abilities_output = '../Version20/Abilities'\n",
    "moves_output = '../Version20/Moves'\n",
    "learnsets_output = '../Version20/Learnsets'\n",
    "natures_output = '../Version20/Natures'\n",
    "# json_output = '../Version20/JSON'\n",
    "\n",
    "os.makedirs(pokedex_output,exist_ok=True)\n",
    "os.makedirs(abilities_output,exist_ok=True)\n",
    "os.makedirs(moves_output,exist_ok=True)\n",
    "os.makedirs(learnsets_output,exist_ok=True)\n",
    "os.makedirs(natures_output,exist_ok=True)\n",
    "# os.makedirs(json_output,exist_ok=True)"
   ]
  },
  {
   "cell_type": "code",
   "execution_count": 3,
   "metadata": {},
   "outputs": [],
   "source": [
    "def chunk_data(bulk, x=500):\n",
    "    ret = []\n",
    "    for i in range(0,len(bulk),x):\n",
    "        ret.append(bulk[i:i+x])\n",
    "    return ret\n",
    "\n",
    "def publish(dataset, path, fname_key='', chunk_size=0, mongo=None):\n",
    "    if mongo is not None: mongo.delete_many({})\n",
    "    if chunk_size:\n",
    "        chunks = []\n",
    "        for i in range(0,len(dataset),chunk_size):\n",
    "            chunks.append(dataset[i:i+chunk_size])\n",
    "    else: chunks = dataset\n",
    "    \n",
    "    for i in range(len(chunks)):\n",
    "        fname = chunks[i][fname_key] if fname_key else f\"{os.path.basename(path)}{i}\"\n",
    "        open(path+f\"/{fname}.json\",'w').write(json.dumps(chunks[i], indent=4))\n",
    "        if mongo is not None: \n",
    "            if type(chunks[i]) == list: mongo.insert_many(chunks[i])\n",
    "            else: mongo.insert_one(chunks[i])"
   ]
  },
  {
   "cell_type": "markdown",
   "metadata": {},
   "source": [
    "# Pokedex Entries"
   ]
  },
  {
   "cell_type": "code",
   "execution_count": 4,
   "metadata": {},
   "outputs": [],
   "source": [
    "data = pd.read_csv(pokedex_path)\n",
    "data.columns = data.columns.str.title().str.replace(' ','')\n",
    "data = data.rename({'No.':'Number', 'Hp': 'BaseHP','Unevolved?':'Unevolved', 'Dexid':'DexID'},axis=1)\n",
    "data = data.fillna('')\n",
    "bulk_json = []\n",
    "for i, row in data.iterrows():\n",
    "    yam = row.to_dict()\n",
    "    yam['_id'] = yam['Name']\n",
    "    if yam['Unevolved']: yam['Unevolved'] = True\n",
    "    if yam['HasAForm?']: yam['HasForm'] = True\n",
    "    if yam['Legendary']: yam['Legendary'] = True\n",
    "    if yam['GoodStarter']: yam['GoodStarter'] = True\n",
    "\n",
    "    if not yam['Unevolved']: yam['Unevolved'] = False\n",
    "    if not yam['HasAForm?']: yam['HasForm'] = False\n",
    "    if not yam['Legendary']: yam['Legendary'] = False\n",
    "    if not yam['GoodStarter']: yam['GoodStarter'] = False\n",
    "    yam['Learnset'] = f\"{yam['Name']}-Learnset\"\n",
    "    yam[\"Abilities\"] = (f\"{yam['Ability1']}\"\n",
    "                        f\"{'' if not yam['Ability2'] else ' / '+ yam['Ability2']}\"\n",
    "                        f\"{'' if not yam['HiddenAbility'] else ' ('+yam['HiddenAbility']+')'}\"\n",
    "                        f\"{'' if not yam['EventAbilities'] else ' <'+yam['EventAbilities']+'>'}\"\n",
    "                        )\n",
    "    yam[\"Type\"] = f\"{yam['Type1']} / {yam['Type2']}\" if yam['Type2'] else yam['Type1']\n",
    "    INTEGERS = ['BaseHP', 'Strength', 'MaxStrength',\n",
    "       'Dexterity', 'MaxDexterity', 'Vitality', 'MaxVitality', 'Special',\n",
    "       'MaxSpecial', 'Insight', 'MaxInsight']\n",
    "    for key in INTEGERS:\n",
    "        yam[key] = int(yam[key])\n",
    "    del yam['HasAForm?']\n",
    "    bulk_json.append(yam)\n",
    "\n",
    "db = client['Pokerole20']\n",
    "# publish(bulk_json, pokedex_output, chunk_size=500, mongo=db.Pokedex)\n",
    "publish(bulk_json, pokedex_output, fname_key=\"Name\", mongo=db.Pokedex)"
   ]
  },
  {
   "cell_type": "markdown",
   "metadata": {},
   "source": [
    "# Ability Entries"
   ]
  },
  {
   "cell_type": "code",
   "execution_count": 7,
   "metadata": {},
   "outputs": [],
   "source": [
    "data = pd.read_csv(abilities_path)\n",
    "data = data.fillna('')\n",
    "bulk_json = []\n",
    "for i, row in data.iterrows():\n",
    "    yam = row.to_dict()\n",
    "    yam['_id'] = yam['Name']\n",
    "    bulk_json.append(yam)\n",
    "db = client['Pokerole20']\n",
    "publish(bulk_json, abilities_output, fname_key=\"Name\", mongo=db.Abilities)"
   ]
  },
  {
   "cell_type": "markdown",
   "metadata": {},
   "source": [
    "# Move Dex\n",
    "\n"
   ]
  },
  {
   "cell_type": "code",
   "execution_count": 8,
   "metadata": {},
   "outputs": [],
   "source": [
    "data = pd.read_csv(moves_path)\n",
    "data = data.fillna('')\n",
    "data.Type = data.Type.str.capitalize()\n",
    "bulk_json = []\n",
    "for i, row in data.iterrows():\n",
    "    yam = row.to_dict()\n",
    "    yam['_id'] = yam['Name']\n",
    "    bulk_json.append(yam)\n",
    "db = client['Pokerole20']\n",
    "publish(bulk_json, moves_output, fname_key=\"Name\", mongo=db.Moves)"
   ]
  },
  {
   "cell_type": "markdown",
   "metadata": {},
   "source": [
    "# Move Lists"
   ]
  },
  {
   "cell_type": "code",
   "execution_count": 9,
   "metadata": {},
   "outputs": [],
   "source": [
    "data = pd.read_csv(learnsets_path)\n",
    "data = data.fillna('')\n",
    "bulk_json = []\n",
    "for i, row in data.iterrows():\n",
    "    yam = {}\n",
    "    yam['Name'] = row['Name']\n",
    "    yam['_id'] = row['Name']\n",
    "    yam['Species'] = f\"{row['Name']}\"\n",
    "    yam['DexID'] = row['No.']\n",
    "    moves = []\n",
    "    for i in range(1,29):\n",
    "        if row[f'Rank{i}']:\n",
    "#             if row[f'Rank{i}'] not in moves:\n",
    "#                 moves[row[f'Rank{i}']] = []\n",
    "            m = row[f'Move{i}']\n",
    "            moves.append({\"Learned\":row[f'Rank{i}'],\"Name\":row[f'Move{i}']})\n",
    "    yam['Moves'] = moves\n",
    "    bulk_json.append(yam)\n",
    "\n",
    "db = client['Pokerole20']\n",
    "publish(bulk_json, learnsets_output, fname_key=\"Name\", mongo=db.Learnsets)"
   ]
  },
  {
   "cell_type": "markdown",
   "metadata": {},
   "source": [
    "# Natures"
   ]
  },
  {
   "cell_type": "code",
   "execution_count": 10,
   "metadata": {},
   "outputs": [],
   "source": [
    "data = pd.read_csv(natures_path,sep=',', skipinitialspace=True)\n",
    "data = data.fillna('')\n",
    "bulk_json = []\n",
    "for i, row in data.iterrows():\n",
    "    yam = row.to_dict()\n",
    "    yam['_id'] = row['Name']\n",
    "    bulk_json.append(yam)\n",
    "\n",
    "db = client['Pokerole20']\n",
    "publish(bulk_json, natures_output, fname_key=\"Name\", mongo=db.Natures)"
   ]
  },
  {
   "cell_type": "markdown",
   "metadata": {},
   "source": [
    "# Scratch"
   ]
  },
  {
   "cell_type": "markdown",
   "metadata": {},
   "source": []
  }
 ],
 "metadata": {
  "kernelspec": {
   "display_name": "Python 3.8.3 ('base')",
   "language": "python",
   "name": "python3"
  },
  "language_info": {
   "codemirror_mode": {
    "name": "ipython",
    "version": 3
   },
   "file_extension": ".py",
   "mimetype": "text/x-python",
   "name": "python",
   "nbconvert_exporter": "python",
   "pygments_lexer": "ipython3",
   "version": "3.8.3"
  },
  "vscode": {
   "interpreter": {
    "hash": "9d515c07ca0272cd8e2d5a7ad23ab2832aa6447bdcf9cb376e21fb0cfe36817a"
   }
  }
 },
 "nbformat": 4,
 "nbformat_minor": 4
}
