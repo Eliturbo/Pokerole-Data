{
 "cells": [
  {
   "cell_type": "markdown",
   "metadata": {},
   "source": [
    "# Pokerole SRD Builder\n",
    "\n",
    "You don't need to use this, if you're looking for the Obsidian SRD, it's [here](https://github.com/Willowlark/PokeroleObsidianSRD)."
   ]
  },
  {
   "cell_type": "code",
   "execution_count": 2,
   "metadata": {},
   "outputs": [
    {
     "name": "stderr",
     "output_type": "stream",
     "text": [
      "/Users/bill/opt/miniconda3/envs/sink/lib/python3.10/site-packages/fuzzywuzzy/fuzz.py:11: UserWarning: Using slow pure-python SequenceMatcher. Install python-Levenshtein to remove this warning\n",
      "  warnings.warn('Using slow pure-python SequenceMatcher. Install python-Levenshtein to remove this warning')\n"
     ]
    }
   ],
   "source": [
    "import yaml\n",
    "from glob import glob\n",
    "import json\n",
    "import os\n",
    "import pandas as pd\n",
    "import re\n",
    "from fuzzywuzzy import process\n",
    "from fuzzywuzzy import fuzz\n",
    "from shutil import copy\n",
    "\n",
    "secrets = json.load(open('../secrets.json'))\n",
    "\n",
    "pokedex_path = '../Version20/Pokedex'\n",
    "abilities_path = '../Version20/Abilities'\n",
    "moves_path = '../Version20/Moves'\n",
    "learnsets_path = '../Version20/Learnsets'\n",
    "natures_path = '../Version20/Natures'\n",
    "sprites_path = '../Images/BoxSprites/'\n",
    "home_path = '../Images/HomeSprites/'\n",
    "book_path = '../Images/BookSprites/'\n",
    "items_path = '../Version20/Items/'\n",
    "\n",
    "pokedex_output = secrets[\"ObsidianRoot\"]+'/Pokerole SRD/SRD-Pokedex/'\n",
    "abilities_output = secrets[\"ObsidianRoot\"]+'/Pokerole SRD/SRD-Abilities/'\n",
    "moves_output = secrets[\"ObsidianRoot\"]+'/Pokerole SRD/SRD-Moves/'\n",
    "learnsets_output = secrets[\"ObsidianRoot\"]+'/Pokerole SRD/SRD-Learnsets/'\n",
    "natures_output = secrets[\"ObsidianRoot\"]+'/Pokerole SRD/SRD-Natures/'\n",
    "sprites_output = secrets[\"ObsidianRoot\"]+'/Pokerole SRD/SRD-BoxSprites/'\n",
    "home_output = secrets[\"ObsidianRoot\"]+'/Pokerole SRD/SRD-HomeSprites/'\n",
    "book_output = secrets[\"ObsidianRoot\"]+'/Pokerole SRD/SRD-BookSprites/'\n",
    "items_output = secrets[\"ObsidianRoot\"]+'/Pokerole SRD/SRD-Items/'\n",
    "\n",
    "os.makedirs(pokedex_output,exist_ok=True)\n",
    "os.makedirs(abilities_output,exist_ok=True)\n",
    "os.makedirs(moves_output,exist_ok=True)\n",
    "os.makedirs(learnsets_output,exist_ok=True)\n",
    "os.makedirs(natures_output,exist_ok=True)\n",
    "os.makedirs(sprites_output,exist_ok=True)\n",
    "os.makedirs(home_output,exist_ok=True)\n",
    "os.makedirs(book_output,exist_ok=True)\n",
    "os.makedirs(items_output,exist_ok=True)"
   ]
  },
  {
   "cell_type": "code",
   "execution_count": 1,
   "metadata": {},
   "outputs": [],
   "source": [
    "ability_template = '''## `= this.name`\n",
    "\n",
    "> *`= this.Description`*\n",
    "\n",
    "**Effect:** `= this.Effect`'''\n",
    "\n",
    "#-------------------------------------------------------------\n",
    "\n",
    "moves_template = '''### `= this.name` \n",
    "*`= this.Description`*\n",
    "\n",
    "**Accuracy:** `= this.Accuracy1` + `= this.Accuracy2`\n",
    "**Damage:** `= this.Power` `= choice(length(this.Damage1)=0, \"\",\"\\+ \"+ this.Damage1)` `= choice(length(this.Damage2)=0, \"\",\"\\+ \"+ this.Damage2)`\n",
    "\n",
    "| Type          | Target          | Damage Type          | Power          |\n",
    "| ------------- | --------------- | ---------------- | -------------- |\n",
    "| `= this.Type` | `= this.Target` | `= this.DmgType` | `= this.Power` | \n",
    "\n",
    "**Effect:** `= this.Effect`'''\n",
    "\n",
    "#-------------------------------------------------------------\n",
    "\n",
    "learnsets_template = '''## `= this.Name` Learnset\n",
    "\n",
    "**DexID:** `= this.DexID`\n",
    "\n",
    "```dataview\n",
    "TABLE WITHOUT ID\n",
    "    T[0] AS Learned,\n",
    "    T[1] AS Move\n",
    "FROM #PokeroleSRD/Learnsets\n",
    "flatten moves as T\n",
    "where file.path = this.file.path\n",
    "```\n",
    "'''\n",
    "\n",
    "#-------------------------------------------------------------------\n",
    "\n",
    "natures_template = '''## `= this.Nature`\n",
    "\n",
    "**Confidence**: `= this.Confidence`\n",
    "\n",
    "*`= this.Keywords`*\n",
    "\n",
    "> `= this.Description`\n",
    "'''\n",
    "\n",
    "#-------------------------------------------------------------------\n",
    "\n",
    "items_template = '''## `= this.Name`\n",
    "\n",
    "*`= this.Description`*\n",
    "\n",
    "| Type Bonus         | Value          | Heal Amount         | Suggested Price         | PMD Price         |\n",
    "| ------------------ | -------------- | ------------------- | ----------------------- | ----------------- |\n",
    "| `= this.TypeBonus` | `= this.Value` | `= this.HealAmount` | `= this.SuggestedPrice` | `= this.PMDPrice` |\n",
    "\n",
    "**Pokemon Limitation**: `= this.SpecificPokemon`\n",
    "'''"
   ]
  },
  {
   "cell_type": "markdown",
   "metadata": {},
   "source": [
    "# Pokedex Entries"
   ]
  },
  {
   "cell_type": "code",
   "execution_count": 7,
   "metadata": {},
   "outputs": [],
   "source": [
    "for src in glob(pokedex_path+\"/*.json\"):\n",
    "    entry = json.loads(open(src).read())\n",
    "    sname = entry['Sprite'].split('.')\n",
    "    entry['BoxSprite'] = f\"SRD-{sname[0]}-BoxSprite.{sname[1]}\"\n",
    "    entry['HomeSprite'] = f\"SRD-{sname[0]}-HomeSprite.{sname[1]}\"\n",
    "    entry['BookSprite'] = f\"SRD-{sname[0]}-BookSprite.{sname[1]}\"\n",
    "    \n",
    "    entry['Unevolved'] = 'Yes' if entry['Unevolved'] else 'No'\n",
    "    entry['HasForm'] = 'Yes' if entry['HasForm'] else 'No'\n",
    "    entry['Legendary'] = 'Yes' if entry['Legendary'] else 'No'\n",
    "    entry['GoodStarter'] = 'Yes' if entry['GoodStarter'] else 'No'\n",
    "    entry['Baby'] = 'Yes' if entry['Baby'] else 'No'\n",
    "    entry['Learnset'] = f\"[[SRD-{entry['Name']}-Learnset]]\"\n",
    "    \n",
    "    if 'MegaEvolutions' in entry:\n",
    "        mega = \"\\n\"\n",
    "        for x in entry['MegaEvolutions']:\n",
    "            mega = mega+f\"**MegaEvolution**:: [[SRD-{x['Name']}]]\\nvia [[SRD-{x['Item']}]]\\n\"\n",
    "    elif 'MegaBaseForm' in entry:\n",
    "        mega = f\"\\n**MegaBaseForm**:: [[SRD-{entry['MegaBaseForm']}]]\\n\"\n",
    "        del entry['MegaBaseForm']\n",
    "    else:\n",
    "        mega = \"\"\n",
    "    \n",
    "    abilities = (f\"[[SRD-{entry['Ability1']}|{entry['Ability1']}]]\"\n",
    "                        f\"{'' if not entry['Ability2'] else ' / [[SRD-'+ entry['Ability2']+'|'+entry['Ability2']+']]'}\"\n",
    "                        f\"{'' if not entry['HiddenAbility'] else ' ([[SRD-'+entry['HiddenAbility']+'|'+entry['HiddenAbility']+']])'}\"\n",
    "                        f\"{'' if not entry['EventAbilities'] else ' <[[SRD-'+entry['EventAbilities']+'|'+entry['EventAbilities']+']]>'}\"\n",
    "                        )\n",
    "    INTEGERS = ['BaseHP', 'Strength', 'MaxStrength',\n",
    "       'Dexterity', 'MaxDexterity', 'Vitality', 'MaxVitality', 'Special',\n",
    "       'MaxSpecial', 'Insight', 'MaxInsight']\n",
    "    for key in INTEGERS:\n",
    "        entry[key] = int(entry[key])\n",
    "\n",
    "    template = f\"\"\"# `= this.name`\n",
    "\n",
    "![[{entry['BookSprite']}|right wsmall]]\n",
    "\n",
    "*{entry['DexCategory']}*\n",
    "*{entry['DexDescription']}*\n",
    "\n",
    "**DexID**:: {entry['DexID']}\n",
    "**Species**:: {entry['Name']}\n",
    "**Type**:: {entry['Type']}\n",
    "**Abilities**:: {abilities}\n",
    "**Base HP**:: {entry['BaseHP']}\n",
    "\n",
    "|           |                                                                                        |                                          |\n",
    "| --------- | -------------------------------------------------------------------------------------- | ---------------------------------------- |\n",
    "| Strength  | `= padleft(padright(\"\",this.MaxStrength - this.Strength,\"⭘\"),this.MaxStrength,\"⬤\")`    | (Strength::{entry['Strength']})/(MaxStrength::{entry['MaxStrength']})   |\n",
    "| Dexterity | `= padleft(padright(\"\",this.MaxDexterity - this.Dexterity,\"⭘\"),this.MaxDexterity,\"⬤\")` | (Dexterity:: {entry['Dexterity']})/(MaxDexterity::{entry['MaxDexterity']}) |\n",
    "| Vitality  | `= padleft(padright(\"\",this.MaxVitality - this.Vitality,\"⭘\"),this.MaxVitality,\"⬤\")`    | (Vitality::{entry['Vitality']})/(MaxVitality::{entry['MaxVitality']})   |\n",
    "| Special   | `= padleft(padright(\"\",this.MaxSpecial - this.Special,\"⭘\"),this.MaxSpecial,\"⬤\")`       | (Special::{entry['Special']})/(MaxSpecial::{entry['MaxSpecial']})     |\n",
    "| Insight   | `= padleft(padright(\"\",this.MaxInsight - this.Insight,\"⭘\"),this.MaxInsight,\"⬤\")`       | (Insight::{entry['Insight']})/(MaxInsight::{entry['MaxInsight']})     |\n",
    "\n",
    "![[{entry['HomeSprite']}|right]]\n",
    "![[{entry['BoxSprite']}|right]]\n",
    "\n",
    "**Recommended Rank**:: {entry['RecommendedRank']}\n",
    "**Good Starter**:: {entry['GoodStarter']}\n",
    "**Can Evolve**:: {entry['Unevolved']}{mega}\n",
    "**Height**: {str(entry['Height']['Feet']).split('.')[0]}'{str(entry['Height']['Feet']).split('.')[1]}\" / {entry['Height']['Meters']}m\n",
    "**Weight**: {entry['Weight']['Pounds']}lbs / {entry['Weight']['Kilograms']}kg\n",
    "\n",
    "![[SRD-{entry['Name']}-Learnset]]\"\"\"\n",
    "        \n",
    "    for x in ['DexID','Strength','MaxStrength','Dexterity','MaxDexterity',\n",
    "              'Vitality','MaxVitality','Special','MaxSpecial','Insight','MaxInsight',\n",
    "             'BaseHP', 'RecommendedRank', 'GoodStarter', 'Unevolved', '_id', \"Abilities\", \"Type\"]:\n",
    "        del entry[x]\n",
    "    \n",
    "    entry_output = f\"---\\n{yaml.dump(entry)}---\\n\\n#PokeroleSRD/Pokedex\\n\\n{template}\"\n",
    "    open(pokedex_output+f\"SRD-{entry['Name']}.md\",'w').write(entry_output)"
   ]
  },
  {
   "cell_type": "markdown",
   "metadata": {},
   "source": [
    "# Ability Entries"
   ]
  },
  {
   "cell_type": "code",
   "execution_count": null,
   "metadata": {},
   "outputs": [],
   "source": [
    "for src in glob(abilities_path+\"/*.json\"):\n",
    "    entry = json.loads(open(src).read())\n",
    "    del entry['_id']\n",
    "    entry_output = f\"---\\n{yaml.dump(entry)}---\\n\\n#PokeroleSRD/Abilities\\n\\n{ability_template}\"\n",
    "    open(abilities_output+f\"SRD-{entry['Name']}.md\",'w').write(entry_output)"
   ]
  },
  {
   "cell_type": "markdown",
   "metadata": {},
   "source": [
    "# Move Dex\n",
    "\n"
   ]
  },
  {
   "cell_type": "code",
   "execution_count": null,
   "metadata": {},
   "outputs": [],
   "source": [
    "for src in glob(moves_path+\"/*.json\"):\n",
    "    entry = json.loads(open(src).read())\n",
    "    del entry['_id']\n",
    "    entry_output = f\"---\\n{yaml.dump(entry)}---\\n\\n#PokeroleSRD/Moves\\n\\n{moves_template}\"\n",
    "    open(moves_output+f\"SRD-{entry['Name']}.md\",'w').write(entry_output)"
   ]
  },
  {
   "cell_type": "markdown",
   "metadata": {},
   "source": [
    "# Move Lists"
   ]
  },
  {
   "cell_type": "code",
   "execution_count": null,
   "metadata": {},
   "outputs": [],
   "source": [
    "for src in glob(learnsets_path+\"/*.json\"):\n",
    "    entry = json.loads(open(src).read())\n",
    "    del entry['_id']\n",
    "    \n",
    "    entry['Species'] = f\"[[SRD-{entry['Name']}|{entry['Name']}]]\"\n",
    "    moves = []\n",
    "    for m in entry[\"Moves\"]:\n",
    "        if moves and m[\"Learned\"] != moves[-1][0]:\n",
    "            moves.append([\"---------------------------\",\"---------------------------\"])\n",
    "        moves.append([m[f'Learned'],f'[[SRD-{m[\"Name\"]}|{m[\"Name\"]}]]'])\n",
    "    entry['Moves'] = moves\n",
    "    entry_output = f\"---\\n{yaml.dump(entry)}---\\n\\n#PokeroleSRD/Learnsets\\n\\n{learnsets_template}\"\n",
    "    open(learnsets_output+f\"SRD-{entry['Name']}-Learnset.md\",'w').write(entry_output)\n",
    "    "
   ]
  },
  {
   "cell_type": "markdown",
   "metadata": {},
   "source": [
    "# Natures"
   ]
  },
  {
   "cell_type": "code",
   "execution_count": null,
   "metadata": {},
   "outputs": [],
   "source": [
    "for src in glob(natures_path+\"/*.json\"):\n",
    "    entry = json.loads(open(src).read())\n",
    "    del entry['_id']\n",
    "    entry_output = f\"---\\n{yaml.dump(entry)}---\\n\\n#PokeroleSRD/Natures\\n\\n{natures_template}\"\n",
    "    open(natures_output+f\"SRD-{entry['Name']}.md\",'w').write(entry_output)"
   ]
  },
  {
   "cell_type": "markdown",
   "metadata": {},
   "source": [
    "# Images"
   ]
  },
  {
   "cell_type": "code",
   "execution_count": null,
   "metadata": {},
   "outputs": [],
   "source": [
    "def x(path, output, postfix):\n",
    "    for img in [x for x in os.listdir(path) if '.png' in x]:\n",
    "        sname = img.split('.')\n",
    "        srdname = f'SRD-{sname[0]}-{postfix}.{sname[1]}'\n",
    "        copy(path+img, output+srdname)\n",
    "        # print(path+img, output+srdname)\n",
    "x(sprites_path, sprites_output, 'BoxSprite')\n",
    "x(home_path, home_output, 'HomeSprite')\n",
    "x(book_path, book_output, 'BookSprite')"
   ]
  },
  {
   "cell_type": "markdown",
   "metadata": {},
   "source": [
    "# Items"
   ]
  },
  {
   "cell_type": "code",
   "execution_count": null,
   "metadata": {},
   "outputs": [],
   "source": [
    "for src in glob(items_path+\"/*.json\"):\n",
    "    entry = json.loads(open(src).read())\n",
    "    del entry['_id']\n",
    "    entry_output = f\"---\\n{yaml.dump(entry)}---\\n\\n#PokeroleSRD/Items\\n\\n{items_template}\"\n",
    "    open(items_output+f\"SRD-{entry['Name']}.md\",'w').write(entry_output)"
   ]
  },
  {
   "cell_type": "code",
   "execution_count": null,
   "metadata": {},
   "outputs": [],
   "source": []
  }
 ],
 "metadata": {
  "kernelspec": {
   "display_name": "Python 3.10.8 ('sink')",
   "language": "python",
   "name": "python3"
  },
  "language_info": {
   "codemirror_mode": {
    "name": "ipython",
    "version": 3
   },
   "file_extension": ".py",
   "mimetype": "text/x-python",
   "name": "python",
   "nbconvert_exporter": "python",
   "pygments_lexer": "ipython3",
   "version": "3.10.8"
  },
  "vscode": {
   "interpreter": {
    "hash": "acc2efd267d5e75a20843b3279b6697779ea78b05d85e2dd7c35c77a63f5d6b2"
   }
  }
 },
 "nbformat": 4,
 "nbformat_minor": 4
}
